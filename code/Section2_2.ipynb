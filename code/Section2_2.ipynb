{
 "cells": [
  {
   "cell_type": "markdown",
   "metadata": {},
   "source": [
    "## Section3"
   ]
  },
  {
   "cell_type": "code",
   "execution_count": 30,
   "metadata": {},
   "outputs": [
    {
     "data": {
      "text/plain": [
       "'<!DOCTYPE html><html lang=\"ja\" data-service-name=\"kite-article\"><head><meta charSet=\"utf-8\"/><meta http-equiv=\"X-UA-Compatible\" content=\"IE=edge\"/><meta name=\"viewport\" content=\"width=device-width, initial-scale=1.0, minimum-scale=1\"/><meta name=\"theme-color\" content=\"#003e70\"/><title>Appleにロシア事業停止を要請\\u3000ウクライナ副首相: 日本経済新聞</title><meta property=\"og:title\" content=\"Appleにロシア事業停止を要請\\u3000ウクライナ副首相（写真=ロイター）\"/><meta property=\"twitter:title\" content=\"Appleにロシア事業停止を要請\\u3000ウクライナ副首相（写真=ロイター）\"/><meta property=\"og:site_name\" content=\"日本経済新聞\"/><meta property=\"og:locale\" content=\"ja_JP\"/><meta name=\"description\" content=\"【シリコンバレー=奥平和行】ウクライナのフョードロフ副首相は25日、米アップルのティム・クック最高経営責任者（CEO）にロシア国内でのサービスや製品の提供中止を要請したことを明らかにした。人気が高いiPhoneなどの利便性を低下させ、ロシアでウクライナに対する攻撃を中止することを求める世論を喚起したい考えだ。デジタル転換相を兼務するフョードロフ氏が同日に、クックCEOに書簡を送ったとツイッター\"/><meta property=\"og:description\" content=\"【シリコンバレー=奥平和行】ウクライナのフョードロフ副首相は25日、米アップルのティム・クック最高経営責任者（CEO）にロシア国内でのサービスや製品の提供中止を要請したことを明らかにした。人気が高いiPhoneなどの利便性を低下させ、ロシアでウクライナに対する攻撃を中止することを求める世論を喚起したい考えだ。デジタル転換相を兼務するフョードロフ氏が同日に、クックCEOに書簡を送ったとツイッター\"/><meta name=\"x-f1h-custom-value\" content=\"{&quot;DSR&quot;:1,&quot;dp&quot;:&quot;r&quot;,&quot;KFID0&quot;:&quot;&quot;,&quot;KFID2&quot;:&quot;&quot;,&quot;nk3&quot;:&quot;38&quot;,&quot;KJID&quot;:&quot;DGXZQOGN262WT0W2A220C2000000&quot;,&quot;TOPIC&quot;:[&quot;22012404&quot;,&quot;1B000000&quot;,&quot;1C000000&quot;,&quot;1BC20000&quot;,&quot;1CC50000&quot;,&quot;1CC70000&quot;,&quot;sokuho&quot;]}\"/><link rel=\"canonical\" href=\"https://www.nikkei.com/article/DGXZQOGN262WT0W2A220C2000000/\"/><meta property=\"og:url\" content=\"https://www.nikkei.com/article/DGXZQOGN262WT0W2A220C2000000/\"/><meta property=\"fb:app_id\" content=\"197388106979545\"/><meta name=\"twitter:site\" content=\"@nikkei\"/><meta property=\"og:image\" content=\"https://article-image-ix.nikkei.com/https%3A%2F%2Fimgix-proxy.n8s.jp%2FDSXZQO1641099026022022000000-2.jpg?ixlib=js-2.3.2&amp;auto=format%2Ccompress&amp;ch=Width%2CDPR&amp;q=45&amp;fit=crop&amp;bg=FFFFFF&amp;w=1200&amp;h=630&am'"
      ]
     },
     "execution_count": 30,
     "metadata": {},
     "output_type": "execute_result"
    }
   ],
   "source": [
    "# Requests.get()を用いてWebページのHtmlを取得する\n",
    "import requests\n",
    "import re\n",
    "url = 'https://www.nikkei.com/article/DGXZQOGN262WT0W2A220C2000000/'\n",
    "res = requests.get(url)\n",
    "text = res.text\n",
    "text[:2000]"
   ]
  },
  {
   "cell_type": "code",
   "execution_count": 31,
   "metadata": {},
   "outputs": [
    {
     "name": "stdout",
     "output_type": "stream",
     "text": [
      "Appleにロシア事業停止を要請　ウクライナ副首相: 日本経済新聞\n"
     ]
    }
   ],
   "source": [
    "title = re.split(\"<title>|</title>\",text)[1]\n",
    "print(title)"
   ]
  },
  {
   "cell_type": "code",
   "execution_count": 49,
   "metadata": {},
   "outputs": [],
   "source": [
    "# seleniumを使ってブラウザを操作する\n",
    "import time\n",
    "from selenium import webdriver\n",
    "CHROME_DRIVER_PATH = 'C:/Users/Tanoguchi/Documents/chromedriver_win32/chromedriver.exe'\n",
    "driver = webdriver.Chrome(executable_path=CHROME_DRIVER_PATH)\n",
    "driver.get('https://www.google.com/')\n",
    "time.sleep(2)\n",
    "search_box = driver.find_element_by_name(\"q\")\n",
    "search_box.send_keys('日経電子版')\n",
    "search_box.submit()"
   ]
  },
  {
   "cell_type": "code",
   "execution_count": null,
   "metadata": {},
   "outputs": [],
   "source": [
    "# https://chromedriver.chromium.org/downloads\n",
    "# https://qiita.com/memakura/items/20a02161fa7e18d8a693\n",
    "# https://support.biglobe.ne.jp/settei/browser/chrome/chrome-013.html\n",
    "# https://aiacademy.jp/media/?p=346\n",
    "# https://qiita.com/memakura/items/20a02161fa7e18d8a693"
   ]
  }
 ],
 "metadata": {
  "kernelspec": {
   "display_name": "Python 3",
   "language": "python",
   "name": "python3"
  },
  "language_info": {
   "codemirror_mode": {
    "name": "ipython",
    "version": 3
   },
   "file_extension": ".py",
   "mimetype": "text/x-python",
   "name": "python",
   "nbconvert_exporter": "python",
   "pygments_lexer": "ipython3",
   "version": "3.7.1"
  }
 },
 "nbformat": 4,
 "nbformat_minor": 4
}
