{
 "cells": [
  {
   "cell_type": "markdown",
   "metadata": {},
   "source": [
    "## Section2"
   ]
  },
  {
   "cell_type": "code",
   "execution_count": 113,
   "metadata": {},
   "outputs": [],
   "source": [
    "import os\n",
    "import shutil"
   ]
  },
  {
   "cell_type": "markdown",
   "metadata": {},
   "source": [
    "フォルダ操作"
   ]
  },
  {
   "cell_type": "code",
   "execution_count": 114,
   "metadata": {},
   "outputs": [
    {
     "name": "stdout",
     "output_type": "stream",
     "text": [
      "../data/NEW_FOLDER\n",
      "C:\\Users\\Tanoguchi\\Documents\\データ解析・実装\\Lesson_20220226\\data\\NEW_FOLDER\n"
     ]
    }
   ],
   "source": [
    "# 新しいフォルダの作成\n",
    "DIR_PATH = '../data/'\n",
    "FOLDER_NAME = 'NEW_FOLDER'\n",
    "CREATE_FOLDER_PATH = DIR_PATH+FOLDER_NAME\n",
    "print(CREATE_FOLDER_PATH)\n",
    "os.makedirs(CREATE_FOLDER_PATH, exist_ok=True)\n",
    "print(os.path.abspath(CREATE_FOLDER_PATH))"
   ]
  },
  {
   "cell_type": "code",
   "execution_count": 115,
   "metadata": {},
   "outputs": [
    {
     "name": "stdout",
     "output_type": "stream",
     "text": [
      "[]\n",
      "['SAMPLE_EXCEL.xlsx']\n"
     ]
    }
   ],
   "source": [
    "# フォルダの内容を調べる\n",
    "## 新しく作成したフォルダ = 空\n",
    "print(os.listdir(CREATE_FOLDER_PATH))\n",
    "## 作成済みのサンプルフォルダ = エクセルファイルが格納\n",
    "SAMPLE_FOLDER_01_NAME = 'SAMPLE_FOLDER_01'\n",
    "SAMPLE_FOLDER_01_PATH = DIR_PATH + SAMPLE_FOLDER_01_NAME\n",
    "print(os.listdir(SAMPLE_FOLDER_01_PATH))"
   ]
  },
  {
   "cell_type": "code",
   "execution_count": 47,
   "metadata": {},
   "outputs": [],
   "source": [
    "# 作成したフォルダを削除\n",
    "shutil.rmtree(CREATE_FOLDER_PATH)"
   ]
  },
  {
   "cell_type": "markdown",
   "metadata": {},
   "source": [
    "ファイル操作"
   ]
  },
  {
   "cell_type": "code",
   "execution_count": 67,
   "metadata": {},
   "outputs": [],
   "source": [
    "# ファイルの読み込み（.txt）\n",
    "TEXT_PATH = DIR_PATH + 'SAMPLE_FOLDER_02/' + 'amenimo_makezu.txt'\n",
    "text_open = open(TEXT_PATH)\n",
    "text = text_open.readlines()"
   ]
  },
  {
   "cell_type": "code",
   "execution_count": null,
   "metadata": {},
   "outputs": [],
   "source": [
    "# ファイルへの追記&保存（.txt）\n",
    "text_open_add = open(TEXT_PATH, 'a')\n",
    "text_open_add.write('\\nAMENIMOMAKEZU')\n",
    "text_open_add.close()"
   ]
  },
  {
   "cell_type": "code",
   "execution_count": 79,
   "metadata": {},
   "outputs": [],
   "source": [
    "# 新規ファイルの作成\n",
    "NEW_TEXT_PATH =  DIR_PATH + 'SAMPLE_FOLDER_02/' + 'amenimo_makezu_copy.txt'\n",
    "open_new = open(NEW_TEXT_PATH, 'w')\n",
    "open_new.write(''.join(text))\n",
    "open_new.close()"
   ]
  },
  {
   "cell_type": "code",
   "execution_count": 81,
   "metadata": {},
   "outputs": [],
   "source": [
    "# 新規ファイルを削除\n",
    "os.remove(NEW_TEXT_PATH)"
   ]
  },
  {
   "cell_type": "markdown",
   "metadata": {},
   "source": [
    "（応用）「あのときの議事録どこだっけ？」に即答する！"
   ]
  },
  {
   "cell_type": "code",
   "execution_count": 103,
   "metadata": {},
   "outputs": [],
   "source": [
    "# 議事録を作成\n",
    "from datetime import datetime\n",
    "from datetime import timedelta\n",
    "import numpy as np\n",
    "def daterange(_start, _end):\n",
    "    for n in range((_end - _start).days):\n",
    "        yield _start + timedelta(n)\n",
    "start = datetime.strptime('2021-08-01', '%Y-%m-%d')\n",
    "end   = datetime.strptime('2022-02-01', '%Y-%m-%d')\n",
    "date_range_list = [i.strftime('%Y-%m-%d') for i in daterange(start, end)]\n",
    "\n",
    "for i in range(200):\n",
    "    IDX = '{0:03}'.format(i)\n",
    "    DATE = np.random.choice(date_range_list, 1)[0]\n",
    "    FILE_NAME = '議事録_%s.txt'%IDX\n",
    "    FILE_PATH = DIR_PATH + 'SAMPLE_FOLDER_03/' + FILE_NAME\n",
    "    file_open = open(FILE_PATH, 'w')\n",
    "    file_open.write(DATE+'\\n'+'議事録\\n参加者\\nXXXX\\nYYYY\\nZZZZ')\n",
    "    file_open.close()"
   ]
  },
  {
   "cell_type": "code",
   "execution_count": 117,
   "metadata": {},
   "outputs": [
    {
     "name": "stdout",
     "output_type": "stream",
     "text": [
      "2021-12-27の議事録はこれです ==> 議事録_116.txt\n"
     ]
    }
   ],
   "source": [
    "# 議事録を探す\n",
    "DATE = '2021-12-27'\n",
    "SAMPLE_FOLDER_03_PATH = DIR_PATH + 'SAMPLE_FOLDER_03'\n",
    "for FILE_NAME in os.listdir(SAMPLE_FOLDER_03_PATH):\n",
    "    # ファイルパス\n",
    "    FILE_PATH = SAMPLE_FOLDER_03_PATH + '/' + FILE_NAME\n",
    "    # ファイルオープン\n",
    "    text_open = open(FILE_PATH)\n",
    "    text = text_open.readlines()\n",
    "    #print(FILE_NAME,text[0])\n",
    "    # 探したい日付の議事録を検索\n",
    "    FILE_DATE = text[0].replace('\\n','')\n",
    "    if FILE_DATE == DATE:\n",
    "        print('%sの議事録はこれです ==> %s'%(DATE,FILE_NAME))"
   ]
  },
  {
   "cell_type": "code",
   "execution_count": 82,
   "metadata": {},
   "outputs": [],
   "source": [
    "# Excelファイルの読み込み\n",
    "# PDFの読み込み"
   ]
  }
 ],
 "metadata": {
  "kernelspec": {
   "display_name": "Python 3",
   "language": "python",
   "name": "python3"
  },
  "language_info": {
   "codemirror_mode": {
    "name": "ipython",
    "version": 3
   },
   "file_extension": ".py",
   "mimetype": "text/x-python",
   "name": "python",
   "nbconvert_exporter": "python",
   "pygments_lexer": "ipython3",
   "version": "3.7.1"
  }
 },
 "nbformat": 4,
 "nbformat_minor": 4
}
