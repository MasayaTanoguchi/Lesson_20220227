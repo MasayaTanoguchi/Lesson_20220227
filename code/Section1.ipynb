{
 "cells": [
  {
   "cell_type": "markdown",
   "metadata": {},
   "source": [
    "## Section1"
   ]
  },
  {
   "cell_type": "code",
   "execution_count": 1,
   "metadata": {},
   "outputs": [
    {
     "name": "stdout",
     "output_type": "stream",
     "text": [
      "Hi!\n"
     ]
    }
   ],
   "source": [
    "# sample1\n",
    "text = 'Hi!'\n",
    "print(text)"
   ]
  },
  {
   "cell_type": "code",
   "execution_count": 2,
   "metadata": {},
   "outputs": [
    {
     "name": "stdout",
     "output_type": "stream",
     "text": [
      "111\n",
      "111は2の倍数以外です\n"
     ]
    }
   ],
   "source": [
    "# sample 2\n",
    "x = input()\n",
    "if int(x) % 2  == 0:\n",
    "    print('%sは2の倍数です'%x)\n",
    "else:\n",
    "    print('%sは2の倍数以外です'%x)"
   ]
  },
  {
   "cell_type": "code",
   "execution_count": 3,
   "metadata": {},
   "outputs": [
    {
     "name": "stdout",
     "output_type": "stream",
     "text": [
      "気合いだ！！\n",
      "気合いだ！！\n",
      "気合いだ！！\n",
      "気合いだ！！\n",
      "気合いだ！！\n",
      "気合いだーーー！！\n"
     ]
    }
   ],
   "source": [
    "# sample 3\n",
    "import time\n",
    "for i in range(5):\n",
    "    print('気合いだ！！')\n",
    "    time.sleep(0.5)\n",
    "for i in range(1):\n",
    "    print('気合いだーーー！！')"
   ]
  },
  {
   "cell_type": "code",
   "execution_count": 22,
   "metadata": {},
   "outputs": [
    {
     "name": "stdout",
     "output_type": "stream",
     "text": [
      "10 1 55\n"
     ]
    }
   ],
   "source": [
    "# sample 4\n",
    "List = [1,2,3,4,5,6,7,8,9,10]\n",
    "print(max(List), min(List), sum(List))"
   ]
  },
  {
   "cell_type": "code",
   "execution_count": null,
   "metadata": {},
   "outputs": [],
   "source": [
    "# sample 4\n",
    "# コンフルスクレイピング"
   ]
  }
 ],
 "metadata": {
  "kernelspec": {
   "display_name": "Python 3",
   "language": "python",
   "name": "python3"
  },
  "language_info": {
   "codemirror_mode": {
    "name": "ipython",
    "version": 3
   },
   "file_extension": ".py",
   "mimetype": "text/x-python",
   "name": "python",
   "nbconvert_exporter": "python",
   "pygments_lexer": "ipython3",
   "version": "3.7.1"
  }
 },
 "nbformat": 4,
 "nbformat_minor": 4
}
